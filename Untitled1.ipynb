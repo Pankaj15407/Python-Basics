{
 "cells": [
  {
   "cell_type": "code",
   "execution_count": 19,
   "id": "a6186530-620b-4a0f-a342-11168bc893c6",
   "metadata": {},
   "outputs": [
    {
     "name": "stdout",
     "output_type": "stream",
     "text": [
      "a: 10\n",
      "b: 5\n"
     ]
    }
   ],
   "source": [
    "#1st Problem\n",
    "a = 5\n",
    "b = 10\n",
    "a, b = b, a\n",
    "print(\"a:\", a)\n",
    "print(\"b:\", b)"
   ]
  },
  {
   "cell_type": "code",
   "execution_count": 20,
   "id": "474122ea-730a-4e76-bc71-3ec2d85ad54b",
   "metadata": {},
   "outputs": [],
   "source": [
    "#2nd Problem\n",
    "Length = 10\n",
    "Width = 5"
   ]
  },
  {
   "cell_type": "code",
   "execution_count": 16,
   "id": "c2f3273a-88dd-4e94-9f94-493f66cf90d9",
   "metadata": {},
   "outputs": [],
   "source": [
    "Area = Length * Width"
   ]
  },
  {
   "cell_type": "code",
   "execution_count": 17,
   "id": "d5d12147-eb35-4b71-a926-02e3941efbee",
   "metadata": {},
   "outputs": [
    {
     "data": {
      "text/plain": [
       "50"
      ]
     },
     "execution_count": 17,
     "metadata": {},
     "output_type": "execute_result"
    }
   ],
   "source": [
    "Area"
   ]
  },
  {
   "cell_type": "code",
   "execution_count": 22,
   "id": "7720867e-d8d4-4512-90f9-5d82ef655388",
   "metadata": {},
   "outputs": [
    {
     "name": "stdin",
     "output_type": "stream",
     "text": [
      "Enter the Temperature in Celsius :\n",
      " 12\n"
     ]
    },
    {
     "name": "stdout",
     "output_type": "stream",
     "text": [
      "Temperature in Fahrenheit : 53.6\n"
     ]
    }
   ],
   "source": [
    "# 3rd Problem\n",
    "\n",
    "celsius = int(input(\"Enter the Temperature in Celsius :\\n\"))\n",
    "fahrenheit = (1.8 * celsius) + 32\n",
    "print(\"Temperature in Fahrenheit :\", fahrenheit)"
   ]
  },
  {
   "cell_type": "code",
   "execution_count": 25,
   "id": "9229c29f-9bbb-4d4a-b53d-f05cc58faa86",
   "metadata": {},
   "outputs": [
    {
     "name": "stdin",
     "output_type": "stream",
     "text": [
      "Enter a string:  Physicswallah\n"
     ]
    },
    {
     "name": "stdout",
     "output_type": "stream",
     "text": [
      "The length of the string is: 13\n"
     ]
    }
   ],
   "source": [
    "# 4th Problem\n",
    "\n",
    "\n",
    "user_input = input(\"Enter a string: \")\n",
    "\n",
    "length = len(user_input)\n",
    "print(\"The length of the string is:\", length)"
   ]
  },
  {
   "cell_type": "code",
   "execution_count": 5,
   "id": "6c7a7935-8042-4c21-909b-9fb8dcb2b2e0",
   "metadata": {},
   "outputs": [
    {
     "name": "stdin",
     "output_type": "stream",
     "text": [
      "Enter a sentence:  Physicswallah\n"
     ]
    },
    {
     "name": "stdout",
     "output_type": "stream",
     "text": [
      "The number of vowels in the sentence is: 3\n"
     ]
    }
   ],
   "source": [
    "# 5th Problem \n",
    "\n",
    "\n",
    "sentence = input(\"Enter a sentence: \")\n",
    "\n",
    "vowel_count = 0\n",
    "\n",
    "\n",
    "sentence = sentence.lower()\n",
    "\n",
    "\n",
    "for char in sentence:\n",
    "    if char in 'aeiou':\n",
    "        vowel_count += 1\n",
    "\n",
    "print(\"The number of vowels in the sentence is:\", vowel_count)\n"
   ]
  },
  {
   "cell_type": "code",
   "execution_count": 30,
   "id": "beae1e38-d349-425c-b816-0f6712e2f459",
   "metadata": {},
   "outputs": [],
   "source": [
    "#6 Problem\n",
    "\n",
    "s1 = 'Physicswallah'"
   ]
  },
  {
   "cell_type": "code",
   "execution_count": 31,
   "id": "4a7b95b4-7a43-4caa-8f16-37b25b2cc566",
   "metadata": {},
   "outputs": [
    {
     "data": {
      "text/plain": [
       "'hallawscisyhP'"
      ]
     },
     "execution_count": 31,
     "metadata": {},
     "output_type": "execute_result"
    }
   ],
   "source": [
    "s1[::-1]"
   ]
  },
  {
   "cell_type": "code",
   "execution_count": 3,
   "id": "ec1ec942-9855-40cf-b79e-105195715bf4",
   "metadata": {},
   "outputs": [
    {
     "name": "stdout",
     "output_type": "stream",
     "text": [
      "hallawscisyhP is not Palindrome\n"
     ]
    }
   ],
   "source": [
    "# 7 th Problem \n",
    "\n",
    "\n",
    "input_string = 'Physicswallah'\n",
    "rev = input_string[::-1]\n",
    "\n",
    "if input_string == rev:\n",
    "    print(rev + \" is Palindrome\")\n",
    "else:\n",
    "    print(rev + \" is not Palindrome\")"
   ]
  },
  {
   "cell_type": "code",
   "execution_count": 7,
   "id": "4da00416-1205-4648-9eea-6a47b195bd1a",
   "metadata": {},
   "outputs": [
    {
     "name": "stdin",
     "output_type": "stream",
     "text": [
      "Enter a string:  Physics wallah  \n"
     ]
    },
    {
     "name": "stdout",
     "output_type": "stream",
     "text": [
      "Modified string without spaces: Physicswallah\n"
     ]
    }
   ],
   "source": [
    "# 8 th Problem\n",
    "input_string = input(\"Enter a string: \")\n",
    "\n",
    "modified_string = input_string.replace(\" \", \"\")\n",
    "\n",
    "\n",
    "print(\"Modified string without spaces:\", modified_string)\n"
   ]
  },
  {
   "cell_type": "code",
   "execution_count": null,
   "id": "86691e40-9963-40af-8766-f55516da2900",
   "metadata": {},
   "outputs": [],
   "source": []
  }
 ],
 "metadata": {
  "kernelspec": {
   "display_name": "Python 3 (ipykernel)",
   "language": "python",
   "name": "python3"
  },
  "language_info": {
   "codemirror_mode": {
    "name": "ipython",
    "version": 3
   },
   "file_extension": ".py",
   "mimetype": "text/x-python",
   "name": "python",
   "nbconvert_exporter": "python",
   "pygments_lexer": "ipython3",
   "version": "3.10.8"
  }
 },
 "nbformat": 4,
 "nbformat_minor": 5
}
